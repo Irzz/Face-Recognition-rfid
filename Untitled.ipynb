{
 "cells": [
  {
   "cell_type": "code",
   "execution_count": 16,
   "id": "8d07078d",
   "metadata": {},
   "outputs": [],
   "source": [
    "import pandas as pd"
   ]
  },
  {
   "cell_type": "code",
   "execution_count": 17,
   "id": "4bff7475",
   "metadata": {},
   "outputs": [],
   "source": [
    "df = pd.read_excel('data rfid2.xlsx')"
   ]
  },
  {
   "cell_type": "code",
   "execution_count": null,
   "id": "a0b82cfc",
   "metadata": {},
   "outputs": [],
   "source": [
    "print (df)"
   ]
  },
  {
   "cell_type": "code",
   "execution_count": 23,
   "id": "aeef90d6",
   "metadata": {},
   "outputs": [
    {
     "name": "stdout",
     "output_type": "stream",
     "text": [
      "Tempelkan kartu RFID anda :0219040787\n"
     ]
    }
   ],
   "source": [
    "serial_patient = input('Tempelkan kartu RFID anda :')"
   ]
  },
  {
   "cell_type": "markdown",
   "id": "6d7390a6",
   "metadata": {},
   "source": [
    " if serial_patient =="
   ]
  }
 ],
 "metadata": {
  "kernelspec": {
   "display_name": "Python 3 (ipykernel)",
   "language": "python",
   "name": "python3"
  },
  "language_info": {
   "codemirror_mode": {
    "name": "ipython",
    "version": 3
   },
   "file_extension": ".py",
   "mimetype": "text/x-python",
   "name": "python",
   "nbconvert_exporter": "python",
   "pygments_lexer": "ipython3",
   "version": "3.9.13"
  }
 },
 "nbformat": 4,
 "nbformat_minor": 5
}
